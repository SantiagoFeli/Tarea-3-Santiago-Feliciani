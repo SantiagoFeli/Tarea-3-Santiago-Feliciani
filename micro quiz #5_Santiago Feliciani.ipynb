{
 "cells": [
  {
   "attachments": {},
   "cell_type": "markdown",
   "metadata": {},
   "source": [
    "# **MICRO QUIZ #5**\n",
    "\n",
    "**ENUNCIADO:**\n",
    "\n",
    "Me han contratado para crear un sistema de nómina básico en Python, con los siguientes requisitos:\n",
    "\n",
    "Se debe tener una clase Empleado, de cada empleado se conoce su rol, nombre y cédula, asimismo cada empleado debe tener un campo llamado “Balance” el cual debe ser un campo numérico que guarde el balance actual que tiene dicho empleado en el sistema interno de la empresa.\n",
    "\n",
    "La clase empleado debe tener métodos para retirar el dinero, así como un método para realizarse el pago de su salario, ambos de estos métodos deben cambiar el campo de balance de forma apropiada.\n",
    "\n",
    "Se debe tener una clase Nómina, la cual debe manejar todos los procesos relacionados con el pago de Nómina a los empleados, esta clase debe contener una lista de los empleados adscritos a la empresa, de la nómina se conoce su presupuesto, la cantidad de dinero que se tiene disponible.\n",
    "\n",
    "La clase nómina debe tener métodos para pagar la nómina de todos los empleados, y el pago debe tomar en cuenta la cantidad de presupuesto que se tiene, la cantidad a pagar va a depende del rol (Programador Junior, Programador Senior, Manager, etc) del empleado. La clase nómina ha de tener métodos para mostrar los empleados, pagar la nómina de los empleados, y agregar saldo al presupuesto de Nómina.\n",
    "\n",
    "A partir de estas clases se le pide que realice un programa con menú interactivo que permita registrar y pagar a los empleados de la nómina."
   ]
  },
  {
   "cell_type": "code",
   "execution_count": 1,
   "metadata": {},
   "outputs": [
    {
     "name": "stdout",
     "output_type": "stream",
     "text": [
      "\n",
      "1. Registrar empleado\n",
      "2. Mostrar empleados\n",
      "3. Pagar nómina\n",
      "4. Agregar presupuesto\n",
      "5. Salir\n"
     ]
    }
   ],
   "source": [
    "class Empleado:\n",
    "    def __init__(self, rol, nombre, cedula, balance=0):\n",
    "        self.rol = rol\n",
    "        self.nombre = nombre\n",
    "        self.cedula = cedula\n",
    "        self.balance = balance\n",
    "\n",
    "    def retirar_dinero(self, cantidad):\n",
    "        if cantidad > self.balance:\n",
    "            print(\"Error: no tiene suficiente saldo\")\n",
    "        else:\n",
    "            self.balance -= cantidad\n",
    "            print(f\"Retiró {cantidad} de su cuenta. Saldo actual: {self.balance}\")\n",
    "\n",
    "    def pagar_salario(self):\n",
    "        if self.rol == \"Programador Junior\":\n",
    "            salario = 1000\n",
    "        elif self.rol == \"Programador Senior\":\n",
    "            salario = 2000\n",
    "        elif self.rol == \"Manager\":\n",
    "            salario = 3000\n",
    "        else:\n",
    "            salario = 0\n",
    "            print(f\"Error: rol desconocido ({self.rol})\")\n",
    "            return\n",
    "\n",
    "        self.balance += salario\n",
    "        print(f\"Se pagó el salario de {self.nombre} ({self.rol}): {salario}. Saldo actual: {self.balance}\")\n",
    "\n",
    "\n",
    "class Nomina:\n",
    "    def __init__(self, presupuesto):\n",
    "        self.presupuesto = presupuesto\n",
    "        self.empleados = []\n",
    "\n",
    "    def agregar_empleado(self, empleado):\n",
    "        self.empleados.append(empleado)\n",
    "\n",
    "    def mostrar_empleados(self):\n",
    "        for empleado in self.empleados:\n",
    "            print(f\"{empleado.nombre} ({empleado.rol}) - saldo: {empleado.balance}\")\n",
    "\n",
    "    def pagar_nomina(self):\n",
    "        total_salarios = sum(empleado.pagar_salario() for empleado in self.empleados)\n",
    "        if total_salarios > self.presupuesto:\n",
    "            print(\"Error: no hay suficiente presupuesto para pagar la nómina\")\n",
    "        else:\n",
    "            self.presupuesto -= total_salarios\n",
    "            print(f\"Se pagó la nómina de los empleados. Presupuesto restante: {self.presupuesto}\")\n",
    "\n",
    "    def agregar_presupuesto(self, cantidad):\n",
    "        self.presupuesto += cantidad\n",
    "        print(f\"Se agregó {cantidad} al presupuesto de nómina. Presupuesto actual: {self.presupuesto}\")\n",
    "\n",
    "\n",
    "# Crear una nómina con un presupuesto inicial de 10000\n",
    "nomina = Nomina(10000)\n",
    "\n",
    "# Menú interactivo\n",
    "while True:\n",
    "    print(\"\")\n",
    "    print(\"1. Registrar empleado\")\n",
    "    print(\"2. Mostrar empleados\")\n",
    "    print(\"3. Pagar nómina\")\n",
    "    print(\"4. Agregar presupuesto\")\n",
    "    print(\"5. Salir\")\n",
    "    opcion = input(\"Ingrese una opción (1-5): \")\n",
    "\n",
    "    if opcion == \"1\":\n",
    "        rol = input(\"Ingrese el rol del empleado: \")\n",
    "        nombre = input(\"Ingrese el nombre del empleado: \")\n",
    "        cedula = input(\"Ingrese la cédula del empleado: \")\n",
    "        empleado = Empleado(rol, nombre, cedula)\n",
    "        nomina.agregar_empleado(empleado)\n",
    "        print(\"Empleado registrado exitosamente\")\n",
    "\n",
    "    elif opcion == \"2\":\n",
    "        nomina.mostrar_empleados()\n",
    "\n",
    "    elif opcion == \"3\":\n",
    "        nomina.pagar_nomina()\n",
    "\n",
    "    elif opcion == \"4\":\n",
    "        cantidad = int(input(\"Ingrese la cantidad a agregar al presupuesto de nómina: \"))\n",
    "        nomina.agregar_presupuesto(cantidad)\n",
    "\n",
    "    elif opcion == \"5\":\n",
    "        break\n",
    "\n",
    "    else:\n",
    "        print(\"Opción inválida\")"
   ]
  },
  {
   "cell_type": "code",
   "execution_count": 2,
   "metadata": {},
   "outputs": [
    {
     "name": "stdout",
     "output_type": "stream",
     "text": [
      "Arreglo Agregado\n"
     ]
    }
   ],
   "source": [
    "print(\"Arreglo Agregado\")"
   ]
  }
 ],
 "metadata": {
  "kernelspec": {
   "display_name": "Python 3",
   "language": "python",
   "name": "python3"
  },
  "language_info": {
   "codemirror_mode": {
    "name": "ipython",
    "version": 3
   },
   "file_extension": ".py",
   "mimetype": "text/x-python",
   "name": "python",
   "nbconvert_exporter": "python",
   "pygments_lexer": "ipython3",
   "version": "3.11.4"
  },
  "orig_nbformat": 4
 },
 "nbformat": 4,
 "nbformat_minor": 2
}
